{
 "cells": [
  {
   "cell_type": "markdown",
   "metadata": {},
   "source": [
    "# Scikit-Learn Tutorial\n",
    "\n",
    "Original material from *Jake VanderPlas*, modified by NeSI.\n",
    "\n",
    "This is the main index for the materials of this Scikit-Learn tutorial.\n",
    "Please refer to the [github repository](https://github.com/nesi/sklearn_tutorial) for this tutorial for any updates."
   ]
  },
  {
   "cell_type": "markdown",
   "metadata": {},
   "source": [
    "## Tutorial Notebooks\n",
    "\n",
    "The following links are to notebooks containing the tutorial materials.\n",
    "Note that many of these require files that are in the directory structure of the [github repository](https://github.com/nesi/sklearn_tutorial) in which they are contained.\n",
    "There is not time during the tutorial to cover all of this material, but we left it in in case attendees would like to go deeper on their own.\n",
    "\n",
    "### 1. Preliminaries\n",
    "\n",
    "  + [01-Preliminaries.ipynb](01-Preliminaries.ipynb)\n",
    "  \n",
    "### 2. Introduction to Machine Learning with Scikit-Learn\n",
    "\n",
    "  + [02.1-Machine-Learning-Intro.ipynb](02.1-Machine-Learning-Intro.ipynb)\n",
    "  + [02.2-Basic-Principles.ipynb](02.2-Basic-Principles.ipynb)\n",
    "  \n",
    "### 3. Supervised Learning In-Depth\n",
    "\n",
    "  + [03.1-Classification-SVMs.ipynb](03.1-Classification-SVMs.ipynb)\n",
    "  + [03.2-Regression-Forests.ipynb](03.2-Regression-Forests.ipynb)\n",
    "\n",
    "### 4. Unsupervised Learning In-Depth\n",
    "\n",
    "  + [04.1-Dimensionality-PCA.ipynb](04.1-Dimensionality-PCA.ipynb)\n",
    "  + [04.2-Clustering-KMeans.ipynb](04.2-Clustering-KMeans.ipynb)\n",
    "  + [04.3-Density-GMM.ipynb](04.3-Density-GMM.ipynb)\n",
    "  \n",
    "### 5. Model Validation In-Depth\n",
    "\n",
    "  + [05-Validation.ipynb](05-Validation.ipynb)\n",
    "\n",
    "### 6. Practice Session\n",
    "\n",
    "  + [06.1-Practice-Penguins.ipynb](06.1-Practice-Penguins.ipynb)\n",
    "  + [06.2-Practice-Abalone.ipynb](06.2-Practice-Abalone.ipynb)"
   ]
  }
 ],
 "metadata": {
  "kernelspec": {
   "display_name": "Python 3.10.5 (gimkl-2022a)",
   "language": "python",
   "name": "python3105-gimkl-2022a"
  },
  "language_info": {
   "codemirror_mode": {
    "name": "ipython",
    "version": 3
   },
   "file_extension": ".py",
   "mimetype": "text/x-python",
   "name": "python",
   "nbconvert_exporter": "python",
   "pygments_lexer": "ipython3",
   "version": "3.10.5"
  }
 },
 "nbformat": 4,
 "nbformat_minor": 4
}
