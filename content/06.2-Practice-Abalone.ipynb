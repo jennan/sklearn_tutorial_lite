{
 "cells": [
  {
   "cell_type": "markdown",
   "metadata": {},
   "source": [
    "# Practice session: Abalone dataset"
   ]
  },
  {
   "cell_type": "code",
   "execution_count": null,
   "metadata": {},
   "outputs": [],
   "source": [
    "%matplotlib inline\n",
    "import numpy as np\n",
    "import pandas as pd\n",
    "import matplotlib.pyplot as plt\n",
    "\n",
    "plt.style.use('seaborn')"
   ]
  },
  {
   "cell_type": "markdown",
   "metadata": {},
   "source": [
    "## Load and prepare the dataset\n",
    "\n",
    "Here, we will use the [Pandas](https://pandas.pydata.org/) package to load the .csv dataset.\n",
    "More information about this dataset is available at the [OpenML](https://www.openml.org/search?type=data&sort=runs&id=183&status=active) website."
   ]
  },
  {
   "cell_type": "code",
   "execution_count": null,
   "metadata": {},
   "outputs": [],
   "source": [
    "cols = ['Sex', 'Length', 'Diameter', 'Height', 'Whole weight', 'Shucked weight',\n",
    "        'Viscera weight', 'Shell weight', 'Rings']\n",
    "\n",
    "abalone = pd.read_csv(\"abalone/dataset_187_abalone.arff\", header=14, names=cols)\n",
    "abalone"
   ]
  },
  {
   "cell_type": "markdown",
   "metadata": {},
   "source": [
    "As a quick check, we will look at the type of each column and check if there is any NaN entry."
   ]
  },
  {
   "cell_type": "code",
   "execution_count": null,
   "metadata": {},
   "outputs": [],
   "source": [
    "abalone.info()"
   ]
  },
  {
   "cell_type": "code",
   "execution_count": null,
   "metadata": {},
   "outputs": [],
   "source": [
    "abalone.isna().sum()"
   ]
  },
  {
   "cell_type": "markdown",
   "metadata": {},
   "source": [
    "Finally, we transform the sex information, which is categorical, into a set of binary columns.\n",
    "This is called one-hot encoding and could be done with Scikit-learn but for now we will use Pandas."
   ]
  },
  {
   "cell_type": "code",
   "execution_count": null,
   "metadata": {},
   "outputs": [],
   "source": [
    "abalone = pd.get_dummies(abalone, columns=[\"Sex\"])\n",
    "abalone"
   ]
  },
  {
   "cell_type": "markdown",
   "metadata": {},
   "source": [
    "Finally, we convert the dataset into a regular set of numpy arrays."
   ]
  },
  {
   "cell_type": "code",
   "execution_count": null,
   "metadata": {},
   "outputs": [],
   "source": [
    "X = abalone.drop(columns=\"Rings\").values\n",
    "y = abalone[\"Rings\"].values"
   ]
  },
  {
   "cell_type": "markdown",
   "metadata": {},
   "source": [
    "## Visualize the data\n",
    "\n",
    "It's always nice to have a look at the input data.\n",
    "As the data has been loaded using Pandas, we can use its [plotting API](https://pandas.pydata.org/pandas-docs/stable/user_guide/visualization.html) to visualize relationships between feature and target values."
   ]
  },
  {
   "cell_type": "code",
   "execution_count": null,
   "metadata": {},
   "outputs": [],
   "source": [
    "abalone.plot(x=\"Diameter\", y=\"Rings\", kind=\"scatter\", alpha=0.3);"
   ]
  },
  {
   "cell_type": "markdown",
   "metadata": {},
   "source": [
    "## And now, your turn!\n",
    "\n",
    "Try some models to predict the number of rings (`y` variable) given the abalone features (`X` variable). Here is a reminder of the main steps that you would follow:\n",
    "\n",
    "- split the data into train and test sets,\n",
    "- import a model,\n",
    "- instantiate the model,\n",
    "- fit the model,\n",
    "- make predictions,\n",
    "- score the model on test data,\n",
    "- plot the predictions vs true value (or residuals),\n",
    "- rinse and repeat!\n",
    "\n",
    "It would be even better if you use cross-validation for scoring."
   ]
  },
  {
   "cell_type": "code",
   "execution_count": null,
   "metadata": {},
   "outputs": [],
   "source": [
    "# split your data in train and test folds, don't forget to fix the random seed"
   ]
  },
  {
   "cell_type": "code",
   "execution_count": null,
   "metadata": {},
   "outputs": [],
   "source": [
    "# import a model class you want to try, e.g. a linear regression"
   ]
  },
  {
   "cell_type": "code",
   "execution_count": null,
   "metadata": {},
   "outputs": [],
   "source": [
    "# create the model"
   ]
  },
  {
   "cell_type": "code",
   "execution_count": null,
   "metadata": {},
   "outputs": [],
   "source": [
    "# fit the model to the training data"
   ]
  },
  {
   "cell_type": "code",
   "execution_count": null,
   "metadata": {},
   "outputs": [],
   "source": [
    "# generate predictions on the test data"
   ]
  },
  {
   "cell_type": "code",
   "execution_count": null,
   "metadata": {},
   "outputs": [],
   "source": [
    "# import a scoring function from sklearn.metrics and compute a score on the test\n",
    "# data (e.g. the root mean squared error)"
   ]
  },
  {
   "cell_type": "code",
   "execution_count": null,
   "metadata": {},
   "outputs": [],
   "source": [
    "# plot the predicted values vs. the true values, look for any systematic bias"
   ]
  },
  {
   "cell_type": "markdown",
   "metadata": {},
   "source": [
    "Once you have obtained some results from your first model, you can explore the following tracks:\n",
    "\n",
    "- test another model and compare the score on the test data,\n",
    "- tune the hyperparameters of your model, using `cross_val_score` on the training data,\n",
    "- or even better, learn more about [automatic tuning with a grid search or a random search](https://scikit-learn.org/stable/modules/grid_search.html). \n",
    "- investigate the performances of your model, is it over-fitting or under-fitting?"
   ]
  },
  {
   "cell_type": "code",
   "execution_count": null,
   "metadata": {},
   "outputs": [],
   "source": []
  },
  {
   "cell_type": "markdown",
   "metadata": {},
   "source": [
    "## Additional challenge\n",
    "\n",
    "Try to predict the weight given the other features ;-)."
   ]
  },
  {
   "cell_type": "code",
   "execution_count": null,
   "metadata": {},
   "outputs": [],
   "source": [
    "weight_cols = [\"Shucked weight\", \"Viscera weight\", \"Shell weight\", \"Whole weight\"]\n",
    "\n",
    "feature_names = abalone.columns.drop(weight_cols)\n",
    "X = abalone.drop(columns=weight_cols).values\n",
    "y = abalone[\"Shucked weight\"].values"
   ]
  },
  {
   "cell_type": "code",
   "execution_count": null,
   "metadata": {},
   "outputs": [],
   "source": []
  }
 ],
 "metadata": {
  "kernelspec": {
   "display_name": "Python 3.10.5 (gimkl-2022a)",
   "language": "python",
   "name": "python3105-gimkl-2022a"
  },
  "language_info": {
   "codemirror_mode": {
    "name": "ipython",
    "version": 3
   },
   "file_extension": ".py",
   "mimetype": "text/x-python",
   "name": "python",
   "nbconvert_exporter": "python",
   "pygments_lexer": "ipython3",
   "version": "3.10.5"
  },
  "toc-autonumbering": false,
  "toc-showmarkdowntxt": false
 },
 "nbformat": 4,
 "nbformat_minor": 4
}
